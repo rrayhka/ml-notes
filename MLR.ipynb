{
 "cells": [
  {
   "cell_type": "markdown",
   "id": "35c5143f-9a5a-40d3-b45f-02f8c0ae3860",
   "metadata": {},
   "source": [
    "# Multiple Liner Regression\n",
    "\n",
    "MLR digunakan untuk kasus yang memiliki atribut independen yang lebih dari satu. Pada contoh kali ini diimplementasikan untuk dataset perpustakaaan yang terdiri dari dua variabel independen dan satu variabel dependen. berikut adalah rumusnya \n",
    "$$\n",
    "Y = \\beta_0 + \\beta_1 X_1 + \\beta_2 X_2 + \\ldots + \\beta_n X_n\n",
    "$$\n",
    "\n",
    "Keterangan: \n",
    "\n",
    "Y= Variabel terikat (dependen)\n",
    "\n",
    "X = Variabelt tak terikat (independen)"
   ]
  },
  {
   "cell_type": "code",
   "execution_count": 1,
   "id": "07ae9b34-3d04-431f-b01f-3ef3e25f3536",
   "metadata": {},
   "outputs": [],
   "source": [
    "import pandas as pd\n",
    "import numpy as np"
   ]
  },
  {
   "cell_type": "markdown",
   "id": "c728c893-ebef-473e-b2dd-07e6fdfa5a7a",
   "metadata": {},
   "source": [
    "terdapat tiga variabel yakni jumlah pengunjung per bulan (dependen), jumlah buku baru per bulan (independen), jumlah member perpustakaan (independen)\n"
   ]
  },
  {
   "cell_type": "code",
   "execution_count": 2,
   "id": "be2e090b-4349-4c73-b544-88b24fb4bf2e",
   "metadata": {},
   "outputs": [],
   "source": [
    "Y = [23, 7, 15, 17, 23, 22, 10, 14, 20, 19]  #jumlah pengunjung per bulan\n",
    "X1 = [10, 2, 4, 6, 8, 7, 4, 6, 7, 6] # jumlah buku baru per bulan\n",
    "X2 = [7, 3, 2, 4, 6, 5, 3, 3, 4, 3] # jumlah member perpustakaan\n",
    "\n",
    "# anggaplah tanggalnya dimulai dari 1-10\n",
    "# simbol E adalah representasi dari sigma atau summation\n",
    "\n",
    "EY = sum(Y) \n",
    "EX1 = sum(X1)\n",
    "EX2 = sum(X2)\n",
    "EX1Y = sum([x * y for x, y in zip(X1, Y)])\n",
    "EX2Y = sum([x * y for x, y in zip(X2, Y)])\n",
    "EX1X2 = sum([i * j for i, j in zip(X1, X2)])\n",
    "EX1Exp = sum([x ** 2 for x in X1])\n",
    "EX2Exp = sum([x ** 2 for x in X2])"
   ]
  },
  {
   "cell_type": "code",
   "execution_count": 3,
   "id": "79409133-323f-44a9-98cd-8651ca8e82b9",
   "metadata": {},
   "outputs": [
    {
     "name": "stdout",
     "output_type": "stream",
     "text": [
      "Matriks A:\n",
      " [[ 10  60  40]\n",
      " [ 60 406 267]\n",
      " [ 40 267 182]]\n",
      "\n",
      "Matriks H:\n",
      " [[ 170]\n",
      " [1122]\n",
      " [ 737]]\n",
      "\n",
      "Matriks A1:\n",
      " [[ 170   60   40]\n",
      " [1122  406  267]\n",
      " [ 737  267  182]]\n",
      "\n",
      "Matriks A2:\n",
      " [[  10  170   40]\n",
      " [  60 1122  267]\n",
      " [  40  737  182]]\n",
      "\n",
      "Matriks A3:\n",
      " [[  10   60  170]\n",
      " [  60  406 1122]\n",
      " [  40  267  737]]\n"
     ]
    }
   ],
   "source": [
    "# Membuat matriks A\n",
    "A = np.array([\n",
    "    [len(Y), EX1, EX2],\n",
    "    [EX1, EX1Exp, EX1X2],\n",
    "    [EX2, EX1X2, EX2Exp]\n",
    "])\n",
    "\n",
    "# Membuat matriks H dari nilai-nilai EY, EX1Y, dan EX2Y\n",
    "H = np.array([[EY], [EX1Y], [EX2Y]])\n",
    "\n",
    "\n",
    "# membuat matriks A1, A2, A3 yang mana kolom pertama dari matriks A1 sama dengan matriks H. Matriks A2 kolom kedua nilainya sama dengan matriks H.\n",
    "# matriks A3 kolom 3 nilainya sama dengan matriks H\n",
    "A1 = A.copy()\n",
    "A1[:, 0] = H[:, 0]\n",
    "\n",
    "A2 = A.copy()\n",
    "A2[:, 1] = H[:, 0]\n",
    "\n",
    "A3 = A.copy()\n",
    "A3[:, 2] = H[:,0]\n",
    "\n",
    "print(\"Matriks A:\\n\", A)\n",
    "print(\"\\nMatriks H:\\n\", H)\n",
    "print(\"\\nMatriks A1:\\n\", A1)\n",
    "print(\"\\nMatriks A2:\\n\", A2)\n",
    "print(\"\\nMatriks A3:\\n\", A3)"
   ]
  },
  {
   "cell_type": "code",
   "execution_count": 4,
   "id": "3d1d075b-e895-4b3f-8dfc-d1d1abd98b1a",
   "metadata": {},
   "outputs": [
    {
     "name": "stdout",
     "output_type": "stream",
     "text": [
      "Determinan A: 2830\n",
      "Determinan A1: 11090\n",
      "Determinan A2: 7050\n",
      "Determinan A3: -1320\n"
     ]
    }
   ],
   "source": [
    "# mencari determinan dari Matrisk A, A1, A2, A3\n",
    "\n",
    "def determinant(matrix):\n",
    "    det = (\n",
    "        matrix[0][0] * matrix[1][1] * matrix[2][2] +\n",
    "        matrix[0][1] * matrix[1][2] * matrix[2][0] +\n",
    "        matrix[0][2] * matrix[1][0] * matrix[2][1] -\n",
    "        matrix[2][0] * matrix[1][1] * matrix[0][2] -\n",
    "        matrix[2][1] * matrix[1][2] * matrix[0][0] -\n",
    "        matrix[2][2] * matrix[1][0] * matrix[0][1]\n",
    "    )\n",
    "    return det\n",
    "detA = determinant(A)\n",
    "detA1 = determinant(A1)\n",
    "detA2 = determinant(A2)\n",
    "detA3 = determinant(A3)\n",
    "\n",
    "print(\"Determinan A:\", detA)\n",
    "print(\"Determinan A1:\", detA1)\n",
    "print(\"Determinan A2:\", detA2)\n",
    "print(\"Determinan A3:\", detA3)\n"
   ]
  },
  {
   "cell_type": "code",
   "execution_count": 5,
   "id": "4b31fdde-a8a2-42c5-aa50-543f82d1e1fd",
   "metadata": {},
   "outputs": [],
   "source": [
    "# setelah itu memasukkan rumus untuk b1, b2, b3\n",
    "\n",
    "b1 = detA1/detA\n",
    "b2 = detA2/detA\n",
    "b3 = detA3/detA\n"
   ]
  },
  {
   "cell_type": "code",
   "execution_count": 6,
   "id": "ec160a19-de0f-472c-ab2d-be71c24dd166",
   "metadata": {},
   "outputs": [
    {
     "data": {
      "text/plain": [
       "(3.918727915194346, 2.491166077738516, -0.4664310954063604)"
      ]
     },
     "execution_count": 6,
     "metadata": {},
     "output_type": "execute_result"
    }
   ],
   "source": [
    "b1, b2, b3"
   ]
  },
  {
   "cell_type": "markdown",
   "id": "358479e1-cc72-4cef-a8c8-94eb4e9b00ca",
   "metadata": {},
   "source": [
    "Selanjutnya adalah untuk menguji dengan suatu kasus jika Jumlah buku baru per bulan (X1) = 11 dan Jumlah member perpustakaan (X2) = 8. Berapakah nilai Y (Jumlah pengunjung per bulan)?\n",
    "\n",
    "$$\n",
    "Y = \\beta_0 + \\beta_1 X_1 + \\beta_2 X_2 + \\ldots + \\beta_n X_n\n",
    "$$\n",
    "\n",
    "Y = 3.918727915194346 + 2.491166077738516(11) -0.4664310954063604(8)\n"
   ]
  },
  {
   "cell_type": "code",
   "execution_count": 7,
   "id": "4b8736d8-5f01-439d-bea6-9e3445cf63f7",
   "metadata": {},
   "outputs": [],
   "source": [
    "Y = b1 + b2*(11) - b3*(8)"
   ]
  },
  {
   "cell_type": "code",
   "execution_count": 8,
   "id": "813e6a31-761f-40aa-9013-8cb252aa2d05",
   "metadata": {},
   "outputs": [
    {
     "data": {
      "text/plain": [
       "35.053003533568905"
      ]
     },
     "execution_count": 8,
     "metadata": {},
     "output_type": "execute_result"
    }
   ],
   "source": [
    "Y"
   ]
  },
  {
   "cell_type": "markdown",
   "id": "ddf8d564-4b6b-4fbb-bfd2-264aadee6bf4",
   "metadata": {},
   "source": [
    "# Kesimpulan\n",
    "\n",
    "setelah nilai Y diketahui maka dapat diterjemahkan menjadi: Setiap datang buku baru sebanyak 11 buah, dan jumlah member bertambah 8 orang, maka jumlah pengunjung akan naik sekitar 35 orang"
   ]
  }
 ],
 "metadata": {
  "kernelspec": {
   "display_name": "Python 3 (ipykernel)",
   "language": "python",
   "name": "python3"
  },
  "language_info": {
   "codemirror_mode": {
    "name": "ipython",
    "version": 3
   },
   "file_extension": ".py",
   "mimetype": "text/x-python",
   "name": "python",
   "nbconvert_exporter": "python",
   "pygments_lexer": "ipython3",
   "version": "3.10.11"
  }
 },
 "nbformat": 4,
 "nbformat_minor": 5
}
